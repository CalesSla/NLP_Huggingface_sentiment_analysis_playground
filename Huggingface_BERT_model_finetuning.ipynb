{
 "cells": [
  {
   "cell_type": "markdown",
   "id": "f8c5f08c",
   "metadata": {},
   "source": [
    "## Huggingface BERT model finetuning with native Tensorflow"
   ]
  },
  {
   "cell_type": "code",
   "execution_count": 40,
   "id": "eeaff1ae",
   "metadata": {},
   "outputs": [
    {
     "name": "stderr",
     "output_type": "stream",
     "text": [
      "[nltk_data] Downloading package stopwords to\n",
      "[nltk_data]     C:\\Users\\User\\AppData\\Roaming\\nltk_data...\n",
      "[nltk_data]   Package stopwords is already up-to-date!\n"
     ]
    }
   ],
   "source": [
    "# Dependencies\n",
    "\n",
    "import pandas as pd\n",
    "import numpy as np\n",
    "import matplotlib.pyplot as plt\n",
    "import seaborn as sns\n",
    "import nltk\n",
    "from nltk.sentiment import SentimentIntensityAnalyzer\n",
    "from tqdm.notebook import tqdm\n",
    "import numpy as np\n",
    "import tensorflow as tf\n",
    "import nltk\n",
    "from collections import Counter\n",
    "import string\n",
    "import itertools\n",
    "nltk.download('stopwords')\n",
    "from nltk.corpus import stopwords\n",
    "stop_words = set(stopwords.words('english'))\n",
    "from nltk import PorterStemmer\n",
    "from nltk.stem.wordnet import WordNetLemmatizer\n",
    "import tensorflow_text as text\n",
    "import tensorflow_hub as hub\n",
    "from sklearn.feature_extraction.text import CountVectorizer, TfidfVectorizer\n",
    "from sklearn.model_selection import train_test_split\n",
    "from sklearn.naive_bayes import MultinomialNB, GaussianNB\n",
    "from sklearn.metrics import accuracy_score, precision_score, recall_score, f1_score\n",
    "import time\n",
    "from tensorflow.keras.preprocessing.sequence import pad_sequences\n",
    "from tensorflow.keras.models import Sequential, Model\n",
    "from tensorflow.keras.layers import GlobalMaxPool1D, BatchNormalization, Dense, RNN, GRU, LSTM, TimeDistributed, Bidirectional, Activation, Embedding, Input, Conv1D, Dropout\n",
    "import tensorflow as tf\n",
    "import keras.backend as K\n",
    "from tensorflow.keras.callbacks import ModelCheckpoint, EarlyStopping\n",
    "from transformers import AutoTokenizer\n",
    "from transformers import TFAutoModelForSequenceClassification\n",
    "from scipy.special import softmax\n",
    "from transformers import pipeline\n",
    "from transformers import DistilBertTokenizerFast\n",
    "from transformers import TFDistilBertForSequenceClassification, TFTrainer, TFTrainingArguments\n",
    "from tensorflow.keras import mixed_precision\n",
    "from tensorflow.keras.utils import to_categorical\n",
    "from datasets import DatasetDict, Dataset\n",
    "\n",
    "# tf.config.set_visible_devices([], 'GPU')\n",
    "plt.style.use('ggplot')\n",
    "\n",
    "# Define mixed precision policy\n",
    "policy = mixed_precision.Policy('mixed_float16')\n",
    "mixed_precision.set_global_policy(policy)"
   ]
  },
  {
   "cell_type": "code",
   "execution_count": 41,
   "id": "e854987a",
   "metadata": {},
   "outputs": [],
   "source": [
    "# Data imports\n",
    "with open('reviews.txt', 'r') as f:\n",
    "  reviews = f.read()\n",
    "with open('labels.txt', 'r') as f:\n",
    "  labels = f.read()\n",
    "  \n",
    "  \n",
    "reviews = reviews.split('\\n')\n",
    "labels = labels.split('\\n')\n",
    "labels = [1 if label == \"positive\" else 0 for label in labels]\n",
    "\n",
    "reviews = reviews[:10000]\n",
    "labels = labels[:10000]"
   ]
  },
  {
   "cell_type": "code",
   "execution_count": 42,
   "id": "b22b7801",
   "metadata": {},
   "outputs": [
    {
     "data": {
      "text/plain": [
       "Dataset({\n",
       "    features: ['reviews', 'labels'],\n",
       "    num_rows: 10000\n",
       "})"
      ]
     },
     "execution_count": 42,
     "metadata": {},
     "output_type": "execute_result"
    }
   ],
   "source": [
    "ds = Dataset.from_dict({'reviews': reviews, 'labels': labels})\n",
    "ds"
   ]
  },
  {
   "cell_type": "code",
   "execution_count": 43,
   "id": "2a2f4446",
   "metadata": {},
   "outputs": [],
   "source": [
    "dataset = ds.train_test_split()"
   ]
  },
  {
   "cell_type": "code",
   "execution_count": 44,
   "id": "9f82dab6",
   "metadata": {},
   "outputs": [
    {
     "data": {
      "application/vnd.jupyter.widget-view+json": {
       "model_id": "",
       "version_major": 2,
       "version_minor": 0
      },
      "text/plain": [
       "Map:   0%|          | 0/7500 [00:00<?, ? examples/s]"
      ]
     },
     "metadata": {},
     "output_type": "display_data"
    },
    {
     "data": {
      "application/vnd.jupyter.widget-view+json": {
       "model_id": "",
       "version_major": 2,
       "version_minor": 0
      },
      "text/plain": [
       "Map:   0%|          | 0/2500 [00:00<?, ? examples/s]"
      ]
     },
     "metadata": {},
     "output_type": "display_data"
    }
   ],
   "source": [
    "checkpoint = 'distilbert-base-uncased'\n",
    "tokenizer = AutoTokenizer.from_pretrained(checkpoint)\n",
    "\n",
    "def tokenize_function(train_dataset):\n",
    "    return tokenizer(train_dataset['reviews'], padding='max_length', truncation=True, max_length = 200)\n",
    "  \n",
    "tokenized_dataset = dataset.map(tokenize_function, batched=True)"
   ]
  },
  {
   "cell_type": "code",
   "execution_count": 45,
   "id": "6484ccb2",
   "metadata": {},
   "outputs": [],
   "source": [
    "train_dataset = tokenized_dataset['train']\n",
    "test_dataset = tokenized_dataset['test']\n",
    "\n",
    "train_dataset = train_dataset.remove_columns(['reviews']).with_format('tensorflow')\n",
    "test_dataset = test_dataset.remove_columns(['reviews']).with_format('tensorflow')\n",
    "\n",
    "train_features = {x: train_dataset[x] for x in tokenizer.model_input_names}\n",
    "train_set = tf.data.Dataset.from_tensor_slices((train_features, train_dataset['labels'])).shuffle(1000).batch(2)\n",
    "\n",
    "test_features = {x: test_dataset[x] for x in tokenizer.model_input_names}\n",
    "test_set = tf.data.Dataset.from_tensor_slices((test_features, test_dataset['labels'])).shuffle(1000).batch(2)"
   ]
  },
  {
   "cell_type": "code",
   "execution_count": 46,
   "id": "8adf8640",
   "metadata": {},
   "outputs": [
    {
     "name": "stderr",
     "output_type": "stream",
     "text": [
      "Some layers from the model checkpoint at distilbert-base-uncased were not used when initializing TFDistilBertForSequenceClassification: ['vocab_layer_norm', 'vocab_projector', 'vocab_transform', 'activation_13']\n",
      "- This IS expected if you are initializing TFDistilBertForSequenceClassification from the checkpoint of a model trained on another task or with another architecture (e.g. initializing a BertForSequenceClassification model from a BertForPreTraining model).\n",
      "- This IS NOT expected if you are initializing TFDistilBertForSequenceClassification from the checkpoint of a model that you expect to be exactly identical (initializing a BertForSequenceClassification model from a BertForSequenceClassification model).\n",
      "Some layers of TFDistilBertForSequenceClassification were not initialized from the model checkpoint at distilbert-base-uncased and are newly initialized: ['dropout_77', 'classifier', 'pre_classifier']\n",
      "You should probably TRAIN this model on a down-stream task to be able to use it for predictions and inference.\n"
     ]
    }
   ],
   "source": [
    "model = TFAutoModelForSequenceClassification.from_pretrained(checkpoint, num_labels=2)\n",
    "model.layers[0].trainable = False\n",
    "\n",
    "model.compile(\n",
    "  optimizer = tf.keras.optimizers.Adam(learning_rate = 0.001),\n",
    "  loss = tf.keras.losses.SparseCategoricalCrossentropy(from_logits = True),\n",
    "  metrics = ['accuracy']\n",
    ")"
   ]
  },
  {
   "cell_type": "code",
   "execution_count": 47,
   "id": "435c544f",
   "metadata": {},
   "outputs": [
    {
     "name": "stdout",
     "output_type": "stream",
     "text": [
      "Epoch 1/3\n",
      "3750/3750 [==============================] - 156s 40ms/step - loss: 0.4586 - accuracy: 0.7853 - val_loss: 0.4289 - val_accuracy: 0.8080\n",
      "Epoch 2/3\n",
      "3750/3750 [==============================] - 154s 41ms/step - loss: 0.4168 - accuracy: 0.8089 - val_loss: 0.3723 - val_accuracy: 0.8336\n",
      "Epoch 3/3\n",
      "3750/3750 [==============================] - 152s 40ms/step - loss: 0.3981 - accuracy: 0.8207 - val_loss: 0.3578 - val_accuracy: 0.8400\n"
     ]
    }
   ],
   "source": [
    "history = model.fit(train_set,\n",
    "                   validation_data = test_set,\n",
    "                   epochs = 3,\n",
    "                   batch_size = 2)"
   ]
  },
  {
   "cell_type": "code",
   "execution_count": null,
   "id": "591ff60a",
   "metadata": {},
   "outputs": [],
   "source": []
  },
  {
   "cell_type": "code",
   "execution_count": null,
   "id": "df737e67",
   "metadata": {},
   "outputs": [],
   "source": []
  },
  {
   "cell_type": "code",
   "execution_count": null,
   "id": "cdccce92",
   "metadata": {},
   "outputs": [],
   "source": []
  },
  {
   "cell_type": "markdown",
   "id": "b39a87f9",
   "metadata": {},
   "source": [
    "## Fine tuning Huggigface BERT model with trainer object"
   ]
  },
  {
   "cell_type": "code",
   "execution_count": 9,
   "id": "9049adc6",
   "metadata": {},
   "outputs": [],
   "source": [
    "X_train, X_test, y_train, y_test = train_test_split(reviews, labels, test_size = 0.2, random_state = 1)"
   ]
  },
  {
   "cell_type": "code",
   "execution_count": 10,
   "id": "fc58bdb7",
   "metadata": {},
   "outputs": [],
   "source": [
    "from transformers import DistilBertTokenizerFast\n",
    "tokenizer = DistilBertTokenizerFast.from_pretrained('distilbert-base-uncased')"
   ]
  },
  {
   "cell_type": "code",
   "execution_count": 11,
   "id": "946900a5",
   "metadata": {},
   "outputs": [],
   "source": [
    "train_encodings = tokenizer(X_train, truncation = True, padding = True)\n",
    "test_encodings = tokenizer(X_test, truncation = True, padding = True)"
   ]
  },
  {
   "cell_type": "code",
   "execution_count": 12,
   "id": "ef57bf06",
   "metadata": {},
   "outputs": [],
   "source": [
    "train_dataset = tf.data.Dataset.from_tensor_slices((dict(train_encodings), y_train))\n",
    "test_dataset = tf.data.Dataset.from_tensor_slices((dict(test_encodings), y_test))"
   ]
  },
  {
   "cell_type": "code",
   "execution_count": 13,
   "id": "dcc21be3",
   "metadata": {},
   "outputs": [],
   "source": [
    "from transformers import TFDistilBertForSequenceClassification, TFTrainer, TFTrainingArguments\n",
    "\n",
    "training_args = TFTrainingArguments(\n",
    "  output_dir = './results',\n",
    "  num_train_epochs = 2,\n",
    "  per_device_eval_batch_size = 4,\n",
    "  per_device_train_batch_size = 4,\n",
    "  warmup_steps = 500,\n",
    "  weight_decay = 0.01,\n",
    "  logging_dir = './logs',\n",
    "  logging_steps = 10,\n",
    "  eval_steps = 50\n",
    ")"
   ]
  },
  {
   "cell_type": "code",
   "execution_count": 14,
   "id": "711d10d0",
   "metadata": {},
   "outputs": [
    {
     "name": "stderr",
     "output_type": "stream",
     "text": [
      "Some layers from the model checkpoint at distilbert-base-uncased were not used when initializing TFDistilBertForSequenceClassification: ['vocab_layer_norm', 'vocab_projector', 'vocab_transform', 'activation_13']\n",
      "- This IS expected if you are initializing TFDistilBertForSequenceClassification from the checkpoint of a model trained on another task or with another architecture (e.g. initializing a BertForSequenceClassification model from a BertForPreTraining model).\n",
      "- This IS NOT expected if you are initializing TFDistilBertForSequenceClassification from the checkpoint of a model that you expect to be exactly identical (initializing a BertForSequenceClassification model from a BertForSequenceClassification model).\n",
      "Some layers of TFDistilBertForSequenceClassification were not initialized from the model checkpoint at distilbert-base-uncased and are newly initialized: ['dropout_57', 'classifier', 'pre_classifier']\n",
      "You should probably TRAIN this model on a down-stream task to be able to use it for predictions and inference.\n",
      "C:\\Users\\User\\anaconda3\\envs\\newtensorflow\\lib\\site-packages\\transformers\\trainer_tf.py:115: FutureWarning: The class `TFTrainer` is deprecated and will be removed in version 5 of Transformers. We recommend using native Keras instead, by calling methods like `fit()` and `predict()` directly on the model object. Detailed examples of the Keras style can be found in our examples at https://github.com/huggingface/transformers/tree/main/examples/tensorflow\n",
      "  warnings.warn(\n"
     ]
    }
   ],
   "source": [
    "with training_args.strategy.scope():\n",
    "  model = TFDistilBertForSequenceClassification.from_pretrained('distilbert-base-uncased')\n",
    "  \n",
    "trainer = TFTrainer(\n",
    "  model = model,\n",
    "  args = training_args,\n",
    "  train_dataset = train_dataset,\n",
    "  eval_dataset = test_dataset\n",
    ")\n",
    "\n",
    "trainer.train()"
   ]
  },
  {
   "cell_type": "code",
   "execution_count": 51,
   "id": "d347267d",
   "metadata": {},
   "outputs": [
    {
     "ename": "AttributeError",
     "evalue": "'Dataset' object has no attribute 'cardinality'",
     "output_type": "error",
     "traceback": [
      "\u001b[1;31m---------------------------------------------------------------------------\u001b[0m",
      "\u001b[1;31mAttributeError\u001b[0m                            Traceback (most recent call last)",
      "Cell \u001b[1;32mIn[51], line 1\u001b[0m\n\u001b[1;32m----> 1\u001b[0m predictions \u001b[38;5;241m=\u001b[39m \u001b[43mtrainer\u001b[49m\u001b[38;5;241;43m.\u001b[39;49m\u001b[43mpredict\u001b[49m\u001b[43m(\u001b[49m\u001b[43mtest_dataset\u001b[49m\u001b[43m)\u001b[49m\n",
      "File \u001b[1;32m~\\anaconda3\\envs\\newtensorflow\\lib\\site-packages\\transformers\\trainer_tf.py:789\u001b[0m, in \u001b[0;36mTFTrainer.predict\u001b[1;34m(self, test_dataset)\u001b[0m\n\u001b[0;32m    767\u001b[0m \u001b[38;5;28;01mdef\u001b[39;00m \u001b[38;5;21mpredict\u001b[39m(\u001b[38;5;28mself\u001b[39m, test_dataset: tf\u001b[38;5;241m.\u001b[39mdata\u001b[38;5;241m.\u001b[39mDataset) \u001b[38;5;241m-\u001b[39m\u001b[38;5;241m>\u001b[39m PredictionOutput:\n\u001b[0;32m    768\u001b[0m     \u001b[38;5;124;03m\"\"\"\u001b[39;00m\n\u001b[0;32m    769\u001b[0m \u001b[38;5;124;03m    Run prediction and returns predictions and potential metrics.\u001b[39;00m\n\u001b[0;32m    770\u001b[0m \n\u001b[1;32m   (...)\u001b[0m\n\u001b[0;32m    787\u001b[0m \u001b[38;5;124;03m          labels).\u001b[39;00m\n\u001b[0;32m    788\u001b[0m \u001b[38;5;124;03m    \"\"\"\u001b[39;00m\n\u001b[1;32m--> 789\u001b[0m     test_ds, steps, num_examples \u001b[38;5;241m=\u001b[39m \u001b[38;5;28;43mself\u001b[39;49m\u001b[38;5;241;43m.\u001b[39;49m\u001b[43mget_test_tfdataset\u001b[49m\u001b[43m(\u001b[49m\u001b[43mtest_dataset\u001b[49m\u001b[43m)\u001b[49m\n\u001b[0;32m    791\u001b[0m     \u001b[38;5;28;01mreturn\u001b[39;00m \u001b[38;5;28mself\u001b[39m\u001b[38;5;241m.\u001b[39mprediction_loop(test_ds, steps, num_examples, description\u001b[38;5;241m=\u001b[39m\u001b[38;5;124m\"\u001b[39m\u001b[38;5;124mPrediction\u001b[39m\u001b[38;5;124m\"\u001b[39m)\n",
      "File \u001b[1;32m~\\anaconda3\\envs\\newtensorflow\\lib\\site-packages\\transformers\\trainer_tf.py:218\u001b[0m, in \u001b[0;36mTFTrainer.get_test_tfdataset\u001b[1;34m(self, test_dataset)\u001b[0m\n\u001b[0;32m    203\u001b[0m \u001b[38;5;28;01mdef\u001b[39;00m \u001b[38;5;21mget_test_tfdataset\u001b[39m(\u001b[38;5;28mself\u001b[39m, test_dataset: tf\u001b[38;5;241m.\u001b[39mdata\u001b[38;5;241m.\u001b[39mDataset) \u001b[38;5;241m-\u001b[39m\u001b[38;5;241m>\u001b[39m tf\u001b[38;5;241m.\u001b[39mdata\u001b[38;5;241m.\u001b[39mDataset:\n\u001b[0;32m    204\u001b[0m     \u001b[38;5;124;03m\"\"\"\u001b[39;00m\n\u001b[0;32m    205\u001b[0m \u001b[38;5;124;03m    Returns a test [`~tf.data.Dataset`].\u001b[39;00m\n\u001b[0;32m    206\u001b[0m \n\u001b[1;32m   (...)\u001b[0m\n\u001b[0;32m    215\u001b[0m \u001b[38;5;124;03m    Subclass and override this method if you want to inject some custom behavior.\u001b[39;00m\n\u001b[0;32m    216\u001b[0m \u001b[38;5;124;03m    \"\"\"\u001b[39;00m\n\u001b[1;32m--> 218\u001b[0m     num_examples \u001b[38;5;241m=\u001b[39m \u001b[43mtest_dataset\u001b[49m\u001b[38;5;241;43m.\u001b[39;49m\u001b[43mcardinality\u001b[49m()\u001b[38;5;241m.\u001b[39mnumpy()\n\u001b[0;32m    220\u001b[0m     \u001b[38;5;28;01mif\u001b[39;00m num_examples \u001b[38;5;241m<\u001b[39m \u001b[38;5;241m0\u001b[39m:\n\u001b[0;32m    221\u001b[0m         \u001b[38;5;28;01mraise\u001b[39;00m \u001b[38;5;167;01mValueError\u001b[39;00m(\u001b[38;5;124m\"\u001b[39m\u001b[38;5;124mThe training dataset must have an asserted cardinality\u001b[39m\u001b[38;5;124m\"\u001b[39m)\n",
      "\u001b[1;31mAttributeError\u001b[0m: 'Dataset' object has no attribute 'cardinality'"
     ]
    }
   ],
   "source": [
    "predictions = trainer.predict(test_dataset)"
   ]
  },
  {
   "cell_type": "code",
   "execution_count": 49,
   "id": "35e167a4",
   "metadata": {},
   "outputs": [
    {
     "name": "stdout",
     "output_type": "stream",
     "text": [
      "Model accuracy: 0.9215\n"
     ]
    }
   ],
   "source": [
    "print('Model accuracy: {}'.format(sum([tf.math.argmax(predictions[0], axis = -1).numpy().tolist()[i] == y_test[i] for i in range(len(y_test))]) / len(y_test)))"
   ]
  },
  {
   "cell_type": "code",
   "execution_count": null,
   "id": "575670ee",
   "metadata": {},
   "outputs": [],
   "source": []
  },
  {
   "cell_type": "code",
   "execution_count": null,
   "id": "5caf361a",
   "metadata": {},
   "outputs": [],
   "source": []
  }
 ],
 "metadata": {
  "kernelspec": {
   "display_name": "Python 3 (ipykernel)",
   "language": "python",
   "name": "python3"
  },
  "language_info": {
   "codemirror_mode": {
    "name": "ipython",
    "version": 3
   },
   "file_extension": ".py",
   "mimetype": "text/x-python",
   "name": "python",
   "nbconvert_exporter": "python",
   "pygments_lexer": "ipython3",
   "version": "3.9.16"
  }
 },
 "nbformat": 4,
 "nbformat_minor": 5
}
