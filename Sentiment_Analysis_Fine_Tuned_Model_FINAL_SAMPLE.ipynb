{
 "cells": [
  {
   "cell_type": "markdown",
   "id": "d741ab59",
   "metadata": {},
   "source": [
    "## Model fine tuning in tensorflow and huggingface"
   ]
  },
  {
   "cell_type": "code",
   "execution_count": 1,
   "id": "0ff8f93c",
   "metadata": {},
   "outputs": [
    {
     "name": "stderr",
     "output_type": "stream",
     "text": [
      "[nltk_data] Downloading package stopwords to\n",
      "[nltk_data]     C:\\Users\\User\\AppData\\Roaming\\nltk_data...\n",
      "[nltk_data]   Package stopwords is already up-to-date!\n"
     ]
    },
    {
     "name": "stdout",
     "output_type": "stream",
     "text": [
      "INFO:tensorflow:Mixed precision compatibility check (mixed_float16): OK\n",
      "Your GPU will likely run quickly with dtype policy mixed_float16 as it has compute capability of at least 7.0. Your GPU: NVIDIA GeForce RTX 3070, compute capability 8.6\n"
     ]
    }
   ],
   "source": [
    "# Dependencies\n",
    "\n",
    "import pandas as pd\n",
    "import numpy as np\n",
    "import matplotlib.pyplot as plt\n",
    "import seaborn as sns\n",
    "import nltk\n",
    "from nltk.sentiment import SentimentIntensityAnalyzer\n",
    "from tqdm.notebook import tqdm\n",
    "import numpy as np\n",
    "import tensorflow as tf\n",
    "import nltk\n",
    "from collections import Counter\n",
    "import string\n",
    "import itertools\n",
    "nltk.download('stopwords')\n",
    "from nltk.corpus import stopwords\n",
    "stop_words = set(stopwords.words('english'))\n",
    "from nltk import PorterStemmer\n",
    "from nltk.stem.wordnet import WordNetLemmatizer\n",
    "import tensorflow_text as text\n",
    "import tensorflow_hub as hub\n",
    "from sklearn.feature_extraction.text import CountVectorizer, TfidfVectorizer\n",
    "from sklearn.model_selection import train_test_split\n",
    "from sklearn.naive_bayes import MultinomialNB, GaussianNB\n",
    "from sklearn.metrics import accuracy_score, precision_score, recall_score, f1_score\n",
    "import time\n",
    "from tensorflow.keras.preprocessing.sequence import pad_sequences\n",
    "from tensorflow.keras.models import Sequential, Model\n",
    "from tensorflow.keras.layers import GlobalMaxPool1D, BatchNormalization, Dense, RNN, GRU, LSTM, TimeDistributed, Bidirectional, Activation, Embedding, Input, Conv1D, Dropout\n",
    "import tensorflow as tf\n",
    "import keras.backend as K\n",
    "from tensorflow.keras.callbacks import ModelCheckpoint, EarlyStopping\n",
    "from transformers import AutoTokenizer\n",
    "from transformers import TFAutoModelForSequenceClassification\n",
    "from scipy.special import softmax\n",
    "from transformers import pipeline\n",
    "from transformers import DistilBertTokenizerFast\n",
    "from transformers import TFDistilBertForSequenceClassification, TFTrainer, TFTrainingArguments\n",
    "from tensorflow.keras import mixed_precision\n",
    "from tensorflow.keras.utils import to_categorical\n",
    "from datasets import Dataset\n",
    "\n",
    "\n",
    "# tf.config.set_visible_devices([], 'GPU')\n",
    "plt.style.use('ggplot')\n",
    "\n",
    "# Define mixed precision policy\n",
    "policy = mixed_precision.Policy('mixed_float16')\n",
    "mixed_precision.set_global_policy(policy)"
   ]
  },
  {
   "cell_type": "code",
   "execution_count": 2,
   "id": "cc8535c2",
   "metadata": {},
   "outputs": [
    {
     "data": {
      "text/html": [
       "<div>\n",
       "<style scoped>\n",
       "    .dataframe tbody tr th:only-of-type {\n",
       "        vertical-align: middle;\n",
       "    }\n",
       "\n",
       "    .dataframe tbody tr th {\n",
       "        vertical-align: top;\n",
       "    }\n",
       "\n",
       "    .dataframe thead th {\n",
       "        text-align: right;\n",
       "    }\n",
       "</style>\n",
       "<table border=\"1\" class=\"dataframe\">\n",
       "  <thead>\n",
       "    <tr style=\"text-align: right;\">\n",
       "      <th></th>\n",
       "      <th>review</th>\n",
       "      <th>label</th>\n",
       "    </tr>\n",
       "  </thead>\n",
       "  <tbody>\n",
       "    <tr>\n",
       "      <th>0</th>\n",
       "      <td>So there is no way for me to plug it in here i...</td>\n",
       "      <td>0</td>\n",
       "    </tr>\n",
       "    <tr>\n",
       "      <th>1</th>\n",
       "      <td>Good case, Excellent value.</td>\n",
       "      <td>1</td>\n",
       "    </tr>\n",
       "    <tr>\n",
       "      <th>2</th>\n",
       "      <td>Great for the jawbone.</td>\n",
       "      <td>1</td>\n",
       "    </tr>\n",
       "  </tbody>\n",
       "</table>\n",
       "</div>"
      ],
      "text/plain": [
       "                                              review  label\n",
       "0  So there is no way for me to plug it in here i...      0\n",
       "1                        Good case, Excellent value.      1\n",
       "2                             Great for the jawbone.      1"
      ]
     },
     "execution_count": 2,
     "metadata": {},
     "output_type": "execute_result"
    }
   ],
   "source": [
    "# Read the data\n",
    "amz_reviews = pd.read_csv('amazon_cells_labelled.txt', sep = '\\t', names = ['review', 'label'])\n",
    "amz_reviews.head(3)"
   ]
  },
  {
   "cell_type": "code",
   "execution_count": 3,
   "id": "4c0664a6",
   "metadata": {},
   "outputs": [],
   "source": [
    "# Train test split\n",
    "X_train, X_test, y_train, y_test = train_test_split(amz_reviews['review'], amz_reviews['label'], test_size = 0.2, random_state = 42)"
   ]
  },
  {
   "cell_type": "code",
   "execution_count": 4,
   "id": "af3fba90",
   "metadata": {},
   "outputs": [
    {
     "name": "stdout",
     "output_type": "stream",
     "text": [
      "[  101 17554   112   189  2080  2965   119   102     0     0     0     0\n",
      "     0     0     0     0     0     0     0     0     0     0     0     0\n",
      "     0     0     0     0     0     0     0     0     0     0     0     0\n",
      "     0     0     0     0     0     0     0     0     0     0     0     0\n",
      "     0     0     0     0     0]\n"
     ]
    }
   ],
   "source": [
    "# Load the tokenizer and tokenize data\n",
    "checkpoint = 'bert-base-cased'\n",
    "\n",
    "tokenizer = AutoTokenizer.from_pretrained(checkpoint)\n",
    "\n",
    "tokenized_data_train = tokenizer(X_train.to_list(), return_tensors = 'np', padding = True)\n",
    "tokenized_data_test = tokenizer(X_test.to_list(), return_tensors = 'np', padding = True)\n",
    "\n",
    "labels_train = np.array(y_train)\n",
    "labels_test = np.array(y_test)\n",
    "\n",
    "print(tokenized_data_train['input_ids'][0])"
   ]
  },
  {
   "cell_type": "code",
   "execution_count": 5,
   "id": "439ba4b2",
   "metadata": {},
   "outputs": [
    {
     "name": "stderr",
     "output_type": "stream",
     "text": [
      "All model checkpoint layers were used when initializing TFBertForSequenceClassification.\n",
      "\n",
      "Some layers of TFBertForSequenceClassification were not initialized from the model checkpoint at bert-base-cased and are newly initialized: ['classifier']\n",
      "You should probably TRAIN this model on a down-stream task to be able to use it for predictions and inference.\n"
     ]
    }
   ],
   "source": [
    "# Load the model\n",
    "model = TFAutoModelForSequenceClassification.from_pretrained(checkpoint, num_labels = 2)"
   ]
  },
  {
   "cell_type": "code",
   "execution_count": 6,
   "id": "5ff08e4f",
   "metadata": {},
   "outputs": [],
   "source": [
    "# Model compilation and parameters\n",
    "loss = tf.keras.losses.SparseCategoricalCrossentropy(from_logits = True)\n",
    "model.compile(optimizer = tf.keras.optimizers.Adam(5e-6), loss = loss, metrics = ['accuracy'])\n",
    "model.layers[0].trainable = False\n",
    "\n",
    "# model.bert.encoder.layer[i].trainable = False"
   ]
  },
  {
   "cell_type": "code",
   "execution_count": 7,
   "id": "0d39e4e9",
   "metadata": {},
   "outputs": [
    {
     "name": "stdout",
     "output_type": "stream",
     "text": [
      "Epoch 1/10\n",
      "25/25 [==============================] - 17s 263ms/step - loss: 0.6849 - accuracy: 0.5425 - val_loss: 0.6493 - val_accuracy: 0.6650\n",
      "Epoch 2/10\n",
      "25/25 [==============================] - 4s 178ms/step - loss: 0.6129 - accuracy: 0.7475 - val_loss: 0.5369 - val_accuracy: 0.8700\n",
      "Epoch 3/10\n",
      "25/25 [==============================] - 4s 177ms/step - loss: 0.4632 - accuracy: 0.9038 - val_loss: 0.3750 - val_accuracy: 0.9200\n",
      "Epoch 4/10\n",
      "25/25 [==============================] - 4s 178ms/step - loss: 0.2984 - accuracy: 0.9362 - val_loss: 0.2670 - val_accuracy: 0.9350\n",
      "Epoch 5/10\n",
      "25/25 [==============================] - 4s 177ms/step - loss: 0.1786 - accuracy: 0.9650 - val_loss: 0.2285 - val_accuracy: 0.9300\n",
      "Epoch 6/10\n",
      "25/25 [==============================] - 4s 175ms/step - loss: 0.1206 - accuracy: 0.9712 - val_loss: 0.2108 - val_accuracy: 0.9300\n",
      "Epoch 7/10\n",
      "25/25 [==============================] - 4s 176ms/step - loss: 0.0732 - accuracy: 0.9850 - val_loss: 0.2221 - val_accuracy: 0.9300\n",
      "Epoch 8/10\n",
      "25/25 [==============================] - 4s 176ms/step - loss: 0.0463 - accuracy: 0.9887 - val_loss: 0.2514 - val_accuracy: 0.9200\n",
      "Epoch 9/10\n",
      "25/25 [==============================] - 4s 177ms/step - loss: 0.0271 - accuracy: 0.9962 - val_loss: 0.2783 - val_accuracy: 0.9250\n",
      "Epoch 10/10\n",
      "25/25 [==============================] - 4s 175ms/step - loss: 0.0211 - accuracy: 0.9962 - val_loss: 0.2965 - val_accuracy: 0.9300\n"
     ]
    },
    {
     "data": {
      "text/plain": [
       "<keras.callbacks.History at 0x18e9de8e4c0>"
      ]
     },
     "execution_count": 7,
     "metadata": {},
     "output_type": "execute_result"
    }
   ],
   "source": [
    "# Fit the model to data\n",
    "model.fit(dict(tokenized_data_train),\n",
    "         labels_train,\n",
    "         validation_data = (dict(tokenized_data_test), labels_test),\n",
    "         epochs = 10)"
   ]
  },
  {
   "cell_type": "code",
   "execution_count": 39,
   "id": "55f342ce",
   "metadata": {},
   "outputs": [
    {
     "name": "stdout",
     "output_type": "stream",
     "text": [
      "7/7 [==============================] - 2s 51ms/step\n",
      "1.0\n"
     ]
    }
   ],
   "source": [
    "# Model evaluation\n",
    "results = model.predict(dict(tokenized_data_test))['logits']\n",
    "\n",
    "y_test_probabilities = tf.nn.softmax(results)\n",
    "y_test_predictions = np.argmax(y_test_probabilities, axis = -1)\n",
    "\n",
    "print(accuracy_score(y_test_predictions, y_test))"
   ]
  },
  {
   "cell_type": "markdown",
   "id": "c405694d",
   "metadata": {},
   "source": [
    "### Model optimization with Hugging Face arrow dataset format"
   ]
  },
  {
   "cell_type": "code",
   "execution_count": 32,
   "id": "fc40feb0",
   "metadata": {},
   "outputs": [
    {
     "data": {
      "application/vnd.jupyter.widget-view+json": {
       "model_id": "",
       "version_major": 2,
       "version_minor": 0
      },
      "text/plain": [
       "Map:   0%|          | 0/1000 [00:00<?, ? examples/s]"
      ]
     },
     "metadata": {},
     "output_type": "display_data"
    },
    {
     "name": "stderr",
     "output_type": "stream",
     "text": [
      "All model checkpoint layers were used when initializing TFBertForSequenceClassification.\n",
      "\n",
      "Some layers of TFBertForSequenceClassification were not initialized from the model checkpoint at bert-base-cased and are newly initialized: ['classifier']\n",
      "You should probably TRAIN this model on a down-stream task to be able to use it for predictions and inference.\n",
      "You're using a BertTokenizerFast tokenizer. Please note that with a fast tokenizer, using the `__call__` method is faster than using a method to encode the text followed by a call to the `pad` method to get a padded encoding.\n"
     ]
    }
   ],
   "source": [
    "# Convert python dataframe to Hugging Face arrow dataset\n",
    "hg_amz_review = Dataset.from_pandas(amz_reviews)\n",
    "\n",
    "# Tokenizer\n",
    "tokenizer = AutoTokenizer.from_pretrained(checkpoint)\n",
    "\n",
    "# Function to tokenize data\n",
    "def tokenize_dataset(data):\n",
    "  return tokenizer(data['review'])\n",
    "\n",
    "# Tokenize the dataset\n",
    "dataset = hg_amz_review.map(tokenize_dataset)\n",
    "\n",
    "# Load model\n",
    "model = TFAutoModelForSequenceClassification.from_pretrained(checkpoint)\n",
    "\n",
    "# TF dataset\n",
    "tf_dataset = model.prepare_tf_dataset(dataset = dataset, batch_size = 16, shuffle = True, tokenizer = tokenizer)"
   ]
  },
  {
   "cell_type": "code",
   "execution_count": 33,
   "id": "c854559d",
   "metadata": {},
   "outputs": [],
   "source": [
    "loss = tf.keras.losses.SparseCategoricalCrossentropy(from_logits = True)\n",
    "model.compile(optimizer = tf.keras.optimizers.Adam(5e-6), loss = loss, metrics = ['accuracy'])"
   ]
  },
  {
   "cell_type": "code",
   "execution_count": 34,
   "id": "5651f2e7",
   "metadata": {},
   "outputs": [
    {
     "name": "stdout",
     "output_type": "stream",
     "text": [
      "Epoch 1/10\n",
      "62/62 [==============================] - 20s 131ms/step - loss: 0.6538 - accuracy: 0.6250\n",
      "Epoch 2/10\n",
      "62/62 [==============================] - 8s 133ms/step - loss: 0.3840 - accuracy: 0.9153\n",
      "Epoch 3/10\n",
      "62/62 [==============================] - 8s 133ms/step - loss: 0.2006 - accuracy: 0.9516\n",
      "Epoch 4/10\n",
      "62/62 [==============================] - 8s 132ms/step - loss: 0.1198 - accuracy: 0.9698\n",
      "Epoch 5/10\n",
      "62/62 [==============================] - 8s 131ms/step - loss: 0.0765 - accuracy: 0.9829\n",
      "Epoch 6/10\n",
      "62/62 [==============================] - 8s 129ms/step - loss: 0.0470 - accuracy: 0.9909\n",
      "Epoch 7/10\n",
      "62/62 [==============================] - 8s 130ms/step - loss: 0.0332 - accuracy: 0.9929\n",
      "Epoch 8/10\n",
      "62/62 [==============================] - 8s 131ms/step - loss: 0.0236 - accuracy: 0.9950\n",
      "Epoch 9/10\n",
      "62/62 [==============================] - 8s 131ms/step - loss: 0.0224 - accuracy: 0.9950\n",
      "Epoch 10/10\n",
      "62/62 [==============================] - 8s 129ms/step - loss: 0.0171 - accuracy: 0.9970\n"
     ]
    },
    {
     "data": {
      "text/plain": [
       "<keras.callbacks.History at 0x1983f3247f0>"
      ]
     },
     "execution_count": 34,
     "metadata": {},
     "output_type": "execute_result"
    }
   ],
   "source": [
    "model.fit(tf_dataset, epochs = 10)"
   ]
  },
  {
   "cell_type": "code",
   "execution_count": 37,
   "id": "97989850",
   "metadata": {},
   "outputs": [
    {
     "name": "stdout",
     "output_type": "stream",
     "text": [
      "62/62 [==============================] - 4s 42ms/step\n"
     ]
    },
    {
     "data": {
      "text/plain": [
       "TFSequenceClassifierOutput(loss=None, logits=array([[-3.07 ,  2.809],\n",
       "       [-3.379,  3.025],\n",
       "       [-2.969,  2.906],\n",
       "       ...,\n",
       "       [ 3.455, -3.11 ],\n",
       "       [-3.518,  3.234],\n",
       "       [ 3.018, -2.799]], dtype=float16), hidden_states=None, attentions=None)"
      ]
     },
     "execution_count": 37,
     "metadata": {},
     "output_type": "execute_result"
    }
   ],
   "source": [
    "model.predict(tf_dataset)"
   ]
  },
  {
   "cell_type": "code",
   "execution_count": null,
   "id": "e223ae0c",
   "metadata": {},
   "outputs": [],
   "source": []
  }
 ],
 "metadata": {
  "kernelspec": {
   "display_name": "Python 3 (ipykernel)",
   "language": "python",
   "name": "python3"
  },
  "language_info": {
   "codemirror_mode": {
    "name": "ipython",
    "version": 3
   },
   "file_extension": ".py",
   "mimetype": "text/x-python",
   "name": "python",
   "nbconvert_exporter": "python",
   "pygments_lexer": "ipython3",
   "version": "3.9.16"
  }
 },
 "nbformat": 4,
 "nbformat_minor": 5
}
